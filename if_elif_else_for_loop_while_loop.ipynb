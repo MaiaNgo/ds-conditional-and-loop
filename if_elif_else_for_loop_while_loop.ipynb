{
 "cells": [
  {
   "cell_type": "code",
   "execution_count": null,
   "metadata": {},
   "outputs": [],
   "source": []
  },
  {
   "cell_type": "markdown",
   "metadata": {},
   "source": [
    "### IF STATEMENT\n",
    "\n",
    "Syntax:\n",
    "\n",
    "if boolean_expressions:\n",
    "\n",
    "    statements\n",
    "    "
   ]
  },
  {
   "cell_type": "code",
   "execution_count": 3,
   "metadata": {},
   "outputs": [
    {
     "name": "stdout",
     "output_type": "stream",
     "text": [
      "First statement\n",
      "Second statement\n"
     ]
    }
   ],
   "source": [
    "if 1 == 1 and 'a' !='b':\n",
    "    print ('First statement')\n",
    "    print ('Second statement')"
   ]
  },
  {
   "cell_type": "code",
   "execution_count": 4,
   "metadata": {},
   "outputs": [],
   "source": [
    "if 1 == 1 and 'a' =='b':\n",
    "    print ('First statement')\n",
    "    print ('Second statement')"
   ]
  },
  {
   "cell_type": "code",
   "execution_count": 5,
   "metadata": {},
   "outputs": [
    {
     "name": "stdout",
     "output_type": "stream",
     "text": [
      "Third statement\n"
     ]
    }
   ],
   "source": [
    "if 1 == 1 and 'a' =='b':\n",
    "    print ('First statement')\n",
    "    print ('Second statement')\n",
    "else:\n",
    "    print ('Third statement')"
   ]
  },
  {
   "cell_type": "code",
   "execution_count": 8,
   "metadata": {},
   "outputs": [
    {
     "name": "stdout",
     "output_type": "stream",
     "text": [
      "color is not blue, green or yellow. It is red\n"
     ]
    }
   ],
   "source": [
    "color = 'red'\n",
    "if color == 'blue':\n",
    "    print('color is blue')\n",
    "elif color == 'green':\n",
    "    print('color is green')\n",
    "elif color == 'yellow':\n",
    "    print('color is yellow')\n",
    "else:\n",
    "    print(f'color is not blue, green or yellow. It is {color}')"
   ]
  },
  {
   "cell_type": "markdown",
   "metadata": {},
   "source": [
    "### Problem:\n",
    "\n",
    "We have a list of weekdays below:\n",
    "days = ['monday', 'tuesday', 'wednesday', 'thursday', 'friday', 'saturday', 'sunday']\n",
    "today = 'sunday'\n",
    "Check if today is in the list and print out if it is."
   ]
  },
  {
   "cell_type": "code",
   "execution_count": 14,
   "metadata": {},
   "outputs": [
    {
     "name": "stdout",
     "output_type": "stream",
     "text": [
      "sunday\n"
     ]
    }
   ],
   "source": [
    "days = ['monday', 'tuesday', 'wednesday', 'thursday', 'friday', 'saturday', 'sunday']\n",
    "today = 'sunday'\n",
    "for day in days:\n",
    "   if day == today:\n",
    "    print(day)\n"
   ]
  },
  {
   "cell_type": "code",
   "execution_count": 15,
   "metadata": {},
   "outputs": [
    {
     "name": "stdout",
     "output_type": "stream",
     "text": [
      "sunday\n"
     ]
    }
   ],
   "source": [
    "days = ['monday', 'tuesday', 'wednesday', 'thursday', 'friday', 'saturday', 'sunday']\n",
    "today = 'sunday'\n",
    "if today in days:\n",
    "    print(today)"
   ]
  },
  {
   "cell_type": "code",
   "execution_count": null,
   "metadata": {},
   "outputs": [],
   "source": []
  }
 ],
 "metadata": {
  "kernelspec": {
   "display_name": "Python 3",
   "language": "python",
   "name": "python3"
  },
  "language_info": {
   "codemirror_mode": {
    "name": "ipython",
    "version": 3
   },
   "file_extension": ".py",
   "mimetype": "text/x-python",
   "name": "python",
   "nbconvert_exporter": "python",
   "pygments_lexer": "ipython3",
   "version": "3.7.3"
  }
 },
 "nbformat": 4,
 "nbformat_minor": 2
}
